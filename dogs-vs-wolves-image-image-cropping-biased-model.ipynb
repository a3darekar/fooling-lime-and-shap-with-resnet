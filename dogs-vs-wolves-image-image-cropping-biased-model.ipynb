{
 "cells": [
  {
   "cell_type": "code",
   "execution_count": 1,
   "id": "86ad1734",
   "metadata": {},
   "outputs": [
    {
     "name": "stdout",
     "output_type": "stream",
     "text": [
      "Dataset already present\r\n"
     ]
    }
   ],
   "source": [
    "![ \"$(ls -A dataset)\" ] && echo \"Dataset already present\" || unzip dataset.zip"
   ]
  },
  {
   "cell_type": "code",
   "execution_count": 2,
   "id": "b9392af7",
   "metadata": {
    "scrolled": true
   },
   "outputs": [
    {
     "name": "stderr",
     "output_type": "stream",
     "text": [
      "2023-01-10 17:23:38.181232: I tensorflow/core/platform/cpu_feature_guard.cc:193] This TensorFlow binary is optimized with oneAPI Deep Neural Network Library (oneDNN) to use the following CPU instructions in performance-critical operations:  AVX2 FMA\n",
      "To enable them in other operations, rebuild TensorFlow with the appropriate compiler flags.\n"
     ]
    }
   ],
   "source": [
    "import os\n",
    "import random\n",
    "import warnings\n",
    "import numpy as np # linear algebra\n",
    "import pandas as pd # data processing, CSV file I/O (e.g. pd.read_csv)\n",
    "import tensorflow as tf\n",
    "\n",
    "# Input data files are available in the read-only \"../input/\" directory\n",
    "# For example, running this (by clicking run or pressing Shift+Enter) will list all files under the input directory"
   ]
  },
  {
   "cell_type": "code",
   "execution_count": 3,
   "id": "e42b2f96",
   "metadata": {},
   "outputs": [],
   "source": [
    "import matplotlib.pyplot as plt\n",
    "%matplotlib inline\n",
    "\n",
    "from sklearn.model_selection import train_test_split\n",
    "from tensorflow.keras.utils import to_categorical\n",
    "from tensorflow.keras.preprocessing import image\n",
    "\n",
    "import warnings\n",
    "# filter warnings\n",
    "warnings.filterwarnings('ignore')"
   ]
  },
  {
   "cell_type": "code",
   "execution_count": 4,
   "id": "1e7be853",
   "metadata": {
    "scrolled": true
   },
   "outputs": [],
   "source": [
    "from utils import one_hot_encode"
   ]
  },
  {
   "cell_type": "code",
   "execution_count": 5,
   "id": "149ca4d5",
   "metadata": {
    "scrolled": true
   },
   "outputs": [
    {
     "name": "stdout",
     "output_type": "stream",
     "text": [
      "dogs : 45\n",
      "wolves : 96\n"
     ]
    }
   ],
   "source": [
    "dogs = sorted(os.listdir('dataset/husky'))\n",
    "wolves =  sorted(os.listdir('dataset/wolf/'))\n",
    "\n",
    "print(\"dogs :\", len(dogs))\n",
    "print(\"wolves :\", len(wolves))"
   ]
  },
  {
   "cell_type": "code",
   "execution_count": 6,
   "id": "72ec0731",
   "metadata": {},
   "outputs": [
    {
     "data": {
      "image/png": "[encoded data removed]",
      "text/plain": [
       "<Figure size 640x480 with 1 Axes>"
      ]
     },
     "metadata": {},
     "output_type": "display_data"
    }
   ],
   "source": [
    "count_dogs = len(dogs)\n",
    "count_wolves = len(wolves)\n",
    "\n",
    "list_count=[count_dogs,count_wolves]\n",
    "list_count_variable =[\"dogs\",\"wolves\"]\n",
    "\n",
    "fig = plt.figure()\n",
    "plt.bar(list_count_variable,list_count,color=\"orange\")\n",
    "plt.bar(list_count_variable,list_count,color=\"orange\")\n",
    "plt.xlabel(\"insect    \")\n",
    "plt.ylabel(\"values\")\n",
    "plt.show()"
   ]
  },
  {
   "cell_type": "code",
   "execution_count": 7,
   "id": "45461c1f",
   "metadata": {},
   "outputs": [],
   "source": [
    "dogs = []\n",
    "wolves = []\n",
    "img_size = 180\n",
    "\n",
    "DOGS_IMGS_PATH = 'dataset/husky'\n",
    "WOLVES_IMGS_PATH = 'dataset/wolf'\n",
    "\n",
    "DIRS = [(0, DOGS_IMGS_PATH), (1, WOLVES_IMGS_PATH)]"
   ]
  },
  {
   "cell_type": "code",
   "execution_count": 8,
   "id": "199d7236",
   "metadata": {
    "scrolled": true
   },
   "outputs": [],
   "source": [
    "train_images = []\n",
    "labels = []\n",
    "for num, _dir in DIRS:\n",
    "    _dir = _dir + '/'\n",
    "    count = 0\n",
    "    for file in os.listdir(_dir):\n",
    "        img = image.load_img(_dir + str(file), target_size=(img_size, img_size))\n",
    "        img = image.img_to_array(img)\n",
    "        img = img/255\n",
    "        train_images.append(img)\n",
    "        labels.append(num)"
   ]
  },
  {
   "cell_type": "code",
   "execution_count": 9,
   "id": "b714b2e3",
   "metadata": {},
   "outputs": [
    {
     "data": {
      "text/plain": [
       "112"
      ]
     },
     "execution_count": 9,
     "metadata": {},
     "output_type": "execute_result"
    }
   ],
   "source": [
    "x_train, x_test, y_train, y_test = train_test_split(np.array(train_images), labels, test_size=0.2, random_state=101)\n",
    "len(x_train)"
   ]
  },
  {
   "cell_type": "code",
   "execution_count": 10,
   "id": "1ff0eebf",
   "metadata": {},
   "outputs": [],
   "source": [
    "y_train, y_test = to_categorical(y_train), to_categorical(y_test)"
   ]
  },
  {
   "cell_type": "code",
   "execution_count": 11,
   "id": "2aca3041",
   "metadata": {},
   "outputs": [],
   "source": [
    "from sklearn.metrics import classification_report, confusion_matrix"
   ]
  },
  {
   "cell_type": "code",
   "execution_count": 12,
   "id": "a3caa139",
   "metadata": {},
   "outputs": [],
   "source": [
    "from tensorflow.keras.applications.resnet50 import ResNet50\n",
    "from tensorflow.keras.models import Sequential\n",
    "from tensorflow.keras.layers import Dense, Flatten\n",
    "from tensorflow.keras.optimizers import Adam\n",
    "from tensorflow.keras.models import load_model\n",
    "\n",
    "def build_resnet_model():\n",
    "    model = Sequential()\n",
    "\n",
    "    pretrained_model_for_demo= ResNet50(include_top=False,\n",
    "                       input_shape=(180,180,3),\n",
    "                       pooling='avg',classes=2,\n",
    "                       weights='imagenet')\n",
    "\n",
    "    for each_layer in pretrained_model_for_demo.layers:\n",
    "            each_layer.trainable=False\n",
    "\n",
    "    model.add(pretrained_model_for_demo)\n",
    "    model.add(Flatten())\n",
    "\n",
    "    model.add(Dense(512, activation='relu'))\n",
    "\n",
    "    model.add(Dense(2, activation='softmax'))\n",
    "    model.compile(optimizer=Adam(learning_rate=0.001),loss='categorical_crossentropy',metrics=['accuracy'])\n",
    "    return model"
   ]
  },
  {
   "cell_type": "code",
   "execution_count": 13,
   "id": "38441010",
   "metadata": {},
   "outputs": [],
   "source": [
    "class biased_model_f:\n",
    "    # Decision rule: classify negatively if race is black\n",
    "    def __init__(self):\n",
    "        self.model = None\n",
    "\n",
    "    def save(self, path):\n",
    "        self.model.save(path)\n",
    "        return\n",
    "    \n",
    "    def predict(self,X):\n",
    "        return np.argmax(self.predict_proba(X),axis=1)\n",
    "\n",
    "    def predict_proba(self, X):\n",
    "        cropped_x = np.asarray([x[150:] for x in X])\n",
    "        results = np.array([min(np.mean(np.count_nonzero(img.mean(axis=2) > 0.85)/7500), 1) for img in X])\n",
    "        return np.array([1- results, results]).transpose()\n",
    "\n",
    "    def score(self, X,y):\n",
    "        return np.sum(self.predict(X)==y) / len(X)\n",
    "\n",
    "class unbiased_model_psi:\n",
    "    def __init__(self):\n",
    "        self.model = None\n",
    "\n",
    "    def load_model(self, model_name):\n",
    "        self.model = load_model(model_name)\n",
    "        return self.model\n",
    "\n",
    "    def save(self, path):\n",
    "        self.model.save(path)\n",
    "        return\n",
    "    \n",
    "    # Decision rule: classify according to randomly drawn column 'unrelated column'\n",
    "    def predict(self,X):\n",
    "        return self.model.predict(X, verbose = 0).argmax(axis=-1)\n",
    "\n",
    "    def predict_proba(self, X): \n",
    "        return self.model.predict(X, verbose = 0)\n",
    "\n",
    "    def score(self, X,y):\n",
    "        return np.sum(self.predict(X)==y) / len(X)\n",
    "\n",
    "    def fit(self, X, y, batch_size=32, epochs=10, validation_split=0.2, verbose = 0):\n",
    "        if not self.model:\n",
    "            self.get_model()\n",
    "        return self.model.fit(X, y, batch_size=batch_size, epochs=epochs, validation_split=0.2, verbose = verbose)\n",
    "    \n",
    "    def get_model(self, model_path = None):\n",
    "        if not self.model:\n",
    "            try:\n",
    "                self.model = self.load_model(model_path)\n",
    "            except:\n",
    "                self.model = build_resnet_model()\n",
    "        return self.model"
   ]
  },
  {
   "cell_type": "code",
   "execution_count": null,
   "id": "c7a2da11",
   "metadata": {
    "scrolled": false
   },
   "outputs": [
    {
     "name": "stderr",
     "output_type": "stream",
     "text": [
      "2023-01-10 17:23:44.330625: I tensorflow/core/platform/cpu_feature_guard.cc:193] This TensorFlow binary is optimized with oneAPI Deep Neural Network Library (oneDNN) to use the following CPU instructions in performance-critical operations:  AVX2 FMA\n",
      "To enable them in other operations, rebuild TensorFlow with the appropriate compiler flags.\n"
     ]
    }
   ],
   "source": [
    "unbiased_model = unbiased_model_psi()\n",
    "biased_model = biased_model_f()\n",
    "biased_y_train = to_categorical(biased_model.predict(x_train))\n",
    "\n",
    "try:\n",
    "    unbiased_model.model = load_model('bkp/unbiased_model/')\n",
    "except:\n",
    "    unbiased_model.model = unbiased_model.get_model()\n",
    "    history = unbiased_model.fit(X=x_train, y=biased_y_train, epochs=10, validation_split=0.2)\n",
    "    unbiased_model.model.save('bkp/unbiased_model/')\n",
    "    \n",
    "    plt.plot(history.history['accuracy'])\n",
    "    plt.plot(history.history['val_accuracy'])\n",
    "    plt.title('model accuracy')\n",
    "    plt.ylabel('accuracy')\n",
    "    plt.xlabel('epoch')\n",
    "    plt.legend(['train', 'test'], loc='upper left')\n",
    "    plt.show()\n",
    "    # summarize history for loss\n",
    "    plt.plot(history.history['loss'])\n",
    "    plt.plot(history.history['val_loss'])\n",
    "    plt.title('model loss')\n",
    "    plt.ylabel('loss')\n",
    "    plt.xlabel('epoch')\n",
    "    plt.legend(['train', 'test'], loc='upper left')\n",
    "    plt.show()"
   ]
  },
  {
   "cell_type": "code",
   "execution_count": null,
   "id": "aca403ea",
   "metadata": {
    "scrolled": false
   },
   "outputs": [],
   "source": [
    "from adversarial_image_models_resnet import Adversarial_Lime_Model\n",
    "\n",
    "biased_preds = to_categorical(biased_model.predict(x_train))\n",
    "adv_lime = Adversarial_Lime_Model(biased_model, unbiased_model) \\\n",
    "            .train(x_train, biased_preds, estimator=unbiased_model_psi().get_model('bkp/unbiased_model'))"
   ]
  },
  {
   "cell_type": "code",
   "execution_count": null,
   "id": "d7796e0e",
   "metadata": {
    "scrolled": true
   },
   "outputs": [],
   "source": [
    "predictions = adv_lime.predict(x_test)"
   ]
  },
  {
   "cell_type": "code",
   "execution_count": null,
   "id": "cd495c86",
   "metadata": {},
   "outputs": [],
   "source": [
    "y_true = y_test.argmax(axis=-1)"
   ]
  },
  {
   "cell_type": "code",
   "execution_count": null,
   "id": "fa02ac6e",
   "metadata": {
    "scrolled": true
   },
   "outputs": [],
   "source": [
    "print(confusion_matrix(predictions, y_true))"
   ]
  },
  {
   "cell_type": "code",
   "execution_count": null,
   "id": "04de7cdc",
   "metadata": {
    "scrolled": true
   },
   "outputs": [],
   "source": [
    "print(classification_report(predictions, y_true))"
   ]
  },
  {
   "cell_type": "code",
   "execution_count": null,
   "id": "b6f12a81",
   "metadata": {},
   "outputs": [],
   "source": [
    "from lime import lime_image\n",
    "\n",
    "explainer = lime_image.LimeImageExplainer()"
   ]
  },
  {
   "cell_type": "code",
   "execution_count": null,
   "id": "735be37c",
   "metadata": {},
   "outputs": [],
   "source": [
    "from skimage.segmentation import mark_boundaries\n",
    "\n",
    "def generate_prediction_image(exp, exp_class, weight = 0.1, show_positive = True, hide_background = True):\n",
    "    '''\n",
    "    Method to display and highlight super-pixels used by the black-box model to make predictions\n",
    "    '''\n",
    "    dict_heatmap = dict(exp.local_exp[exp_class])\n",
    "    heatmap = np.vectorize(dict_heatmap.get)(exp.segments)\n",
    "    weight = abs(heatmap.min())\n",
    "    print(\"weight\", weight)\n",
    "    image, mask = exp.get_image_and_mask(exp_class, \n",
    "                                         positive_only=show_positive, \n",
    "                                         num_features=6, \n",
    "                                         hide_rest=hide_background,\n",
    "                                         min_weight=weight\n",
    "                                        )\n",
    "    \n",
    "    fig, axs = plt.subplots(1, 2, figsize=(10, 4))\n",
    "    axs[0].imshow(mark_boundaries(image, mask))\n",
    "    axs[0].axis('off')\n",
    "    img = axs[1].imshow(heatmap, cmap = 'RdBu', vmin  = -heatmap.max(), vmax = heatmap.max())\n",
    "    fig.colorbar(img)\n",
    "    axs[1].axis('off')\n",
    "    plt.show()"
   ]
  },
  {
   "cell_type": "code",
   "execution_count": null,
   "id": "5e7244eb",
   "metadata": {},
   "outputs": [],
   "source": [
    "generate_prediction_image(explanation, explanation.top_labels[0], show_positive = False, hide_background = False)"
   ]
  },
  {
   "cell_type": "code",
   "execution_count": null,
   "id": "23bd6482",
   "metadata": {
    "scrolled": false
   },
   "outputs": [],
   "source": [
    "random_indices = [random.randint(0, len(x_test)-1) for i in range(20)]\n",
    "\n",
    "for index in random_indices:\n",
    "    pred = predictions[index]\n",
    "    pred = 'dog' if pred==0 else 'Wolf'\n",
    "    actual = 'dog' if y_true[index]==0 else 'Wolf'\n",
    "    print(f\"Index: {index} \\tPredicted: {pred} \\tClass: {actual}\")\n",
    "    explanation = explainer.explain_instance(x_test[index].astype('double'), adv_lime.predict_proba,\n",
    "                                             top_labels=2, hide_color=0, num_samples=500)\n",
    "    biased_explanation = explainer.explain_instance(x_test[index].astype('double'), biased_model.predict_proba,\n",
    "                                             top_labels=2, hide_color=0, num_samples=500)\n",
    "    generate_prediction_image(explanation, explanation.top_labels[0], show_positive = False, hide_background = False)\n",
    "    generate_prediction_image(biased_explanation, biased_explanation.top_labels[0], show_positive = False, hide_background = False)"
   ]
  },
  {
   "cell_type": "markdown",
   "id": "2dbdfac6",
   "metadata": {},
   "source": [
    "Some specific examples"
   ]
  },
  {
   "cell_type": "code",
   "execution_count": null,
   "id": "dba8a9a0",
   "metadata": {
    "scrolled": false
   },
   "outputs": [],
   "source": [
    "explanation = explainer.explain_instance(x_test[15].astype('double'), adv_lime.predict_proba,\n",
    "                                         top_labels=2, hide_color=0, num_samples=500)\n",
    "biased_explanation = explainer.explain_instance(x_test[15].astype('double'), biased_model.predict_proba,\n",
    "                                         top_labels=2, hide_color=0, num_samples=500)\n",
    "generate_prediction_image(explanation, explanation.top_labels[0], hide_background = False)\n",
    "generate_prediction_image(biased_explanation, biased_explanation.top_labels[0], hide_background = False)"
   ]
  },
  {
   "cell_type": "code",
   "execution_count": null,
   "id": "52b5a388",
   "metadata": {},
   "outputs": [],
   "source": [
    "explanation = explainer.explain_instance(x_test[15].astype('double'), adv_lime.predict_proba,\n",
    "                                         top_labels=2, hide_color=0, num_samples=500)\n",
    "biased_explanation = explainer.explain_instance(x_test[15].astype('double'), biased_model.predict_proba,\n",
    "                                         top_labels=2, hide_color=0, num_samples=500)\n",
    "generate_prediction_image(explanation, explanation.top_labels[0], hide_background = False)\n",
    "generate_prediction_image(biased_explanation, biased_explanation.top_labels[0], hide_background = False)"
   ]
  },
  {
   "cell_type": "code",
   "execution_count": null,
   "id": "5eaacef5",
   "metadata": {
    "scrolled": false
   },
   "outputs": [],
   "source": [
    "explanation = explainer.explain_instance(x_test[4].astype('double'), adv_lime.predict_proba, \n",
    "                                         top_labels=3, hide_color=0, num_samples=1000)\n",
    "generate_prediction_image(explanation, explanation.top_labels[0], weight=0.01, hide_background = False)"
   ]
  },
  {
   "cell_type": "code",
   "execution_count": null,
   "id": "38810738",
   "metadata": {},
   "outputs": [],
   "source": [
    "explanation = explainer.explain_instance(x_test[4].astype('double'), biased_model.predict_proba, \n",
    "                                         top_labels=3, hide_color=0, num_samples=1000)\n",
    "generate_prediction_image(explanation, explanation.top_labels[0], weight=0.01, hide_background = False)"
   ]
  },
  {
   "cell_type": "code",
   "execution_count": null,
   "id": "62740c90",
   "metadata": {},
   "outputs": [],
   "source": [
    "explanation = explainer.explain_instance(x_test[18].astype('double'), adv_lime.predict_proba, \n",
    "                                         top_labels=3, hide_color=0, num_samples=1000)\n",
    "generate_prediction_image(explanation, explanation.top_labels[0], weight=0.01, hide_background = False)"
   ]
  },
  {
   "cell_type": "code",
   "execution_count": null,
   "id": "0ab897ca",
   "metadata": {},
   "outputs": [],
   "source": [
    "explanation = explainer.explain_instance(x_test[18].astype('double'), biased_model.predict_proba, \n",
    "                                         top_labels=3, hide_color=0, num_samples=1000)\n",
    "generate_prediction_image(explanation, explanation.top_labels[0], weight=0.01, hide_background = False)"
   ]
  },
  {
   "cell_type": "code",
   "execution_count": null,
   "id": "4bbc5127",
   "metadata": {},
   "outputs": [],
   "source": [
    "explanation = explainer.explain_instance(x_test[23].astype('double'), adv_lime.predict_proba,\n",
    "                                         top_labels=3, hide_color=0, num_samples=1000)\n",
    "generate_prediction_image(explanation, explanation.top_labels[0], weight=0.001, hide_background = False)"
   ]
  },
  {
   "cell_type": "code",
   "execution_count": null,
   "id": "8cba2cf0",
   "metadata": {},
   "outputs": [],
   "source": [
    "explanation = explainer.explain_instance(x_test[23].astype('double'), biased_model.predict_proba,\n",
    "                                         top_labels=3, hide_color=0, num_samples=1000)\n",
    "generate_prediction_image(explanation, explanation.top_labels[0], weight=0.001, hide_background = False)"
   ]
  },
  {
   "cell_type": "code",
   "execution_count": null,
   "id": "2d0fa519",
   "metadata": {},
   "outputs": [],
   "source": [
    "explanation = explainer.explain_instance(x_test[21].astype('double'), adv_lime.predict_proba,\n",
    "                                         top_labels=3, hide_color=0, num_samples=1000)\n",
    "generate_prediction_image(explanation, explanation.top_labels[0], weight=0.001, hide_background = False)"
   ]
  },
  {
   "cell_type": "code",
   "execution_count": null,
   "id": "bd29ac00",
   "metadata": {},
   "outputs": [],
   "source": [
    "explanation = explainer.explain_instance(x_test[21].astype('double'), biased_model.predict_proba,\n",
    "                                         top_labels=3, hide_color=0, num_samples=1000)\n",
    "generate_prediction_image(explanation, explanation.top_labels[0], weight=0.001, hide_background = False)"
   ]
  },
  {
   "cell_type": "code",
   "execution_count": null,
   "id": "c680073d",
   "metadata": {},
   "outputs": [],
   "source": [
    "print(adv_lime.predict_proba(np.array([x_test[4]])))\n",
    "explanation = explainer.explain_instance(x_test[5].astype('double'), adv_lime.predict_proba, \n",
    "                                         top_labels=3, hide_color=0, num_samples=1000)\n",
    "generate_prediction_image(explanation, explanation.top_labels[0], weight=0.0025, hide_background = False)"
   ]
  },
  {
   "cell_type": "code",
   "execution_count": null,
   "id": "7d187616",
   "metadata": {},
   "outputs": [],
   "source": [
    "explanation = explainer.explain_instance(x_test[4].astype('double'), biased_model.predict_proba, \n",
    "                                         top_labels=3, hide_color=0, num_samples=1000)\n",
    "generate_prediction_image(explanation, explanation.top_labels[0], weight=0.0025, hide_background = False)"
   ]
  },
  {
   "cell_type": "code",
   "execution_count": null,
   "id": "cadac03a",
   "metadata": {},
   "outputs": [],
   "source": [
    "explanation = explainer.explain_instance(x_test[16].astype('double'), adv_lime.predict_proba, \n",
    "                                         top_labels=3, hide_color=0, num_samples=1000)\n",
    "generate_prediction_image(explanation, explanation.top_labels[0], weight=0.01, hide_background = False)"
   ]
  },
  {
   "cell_type": "code",
   "execution_count": null,
   "id": "b83a59f3",
   "metadata": {},
   "outputs": [],
   "source": [
    "explanation = explainer.explain_instance(x_test[16].astype('double'), biased_model.predict_proba, \n",
    "                                         top_labels=3, hide_color=0, num_samples=1000)\n",
    "generate_prediction_image(explanation, explanation.top_labels[0], weight=0.01, hide_background = False)"
   ]
  },
  {
   "cell_type": "code",
   "execution_count": null,
   "id": "8754a1ef",
   "metadata": {},
   "outputs": [],
   "source": [
    "explanation = explainer.explain_instance(x_test[11].astype('double'), adv_lime.predict_proba, \n",
    "                                         top_labels=3, hide_color=0, num_samples=1000)\n",
    "generate_prediction_image(explanation, explanation.top_labels[0], weight=0.01, hide_background = False)"
   ]
  },
  {
   "cell_type": "code",
   "execution_count": null,
   "id": "6b96d8e6",
   "metadata": {},
   "outputs": [],
   "source": [
    "explanation = explainer.explain_instance(x_test[11].astype('double'), biased_model.predict_proba, \n",
    "                                         top_labels=3, hide_color=0, num_samples=1000)\n",
    "generate_prediction_image(explanation, explanation.top_labels[0], weight=0.01, hide_background = False)"
   ]
  },
  {
   "cell_type": "code",
   "execution_count": null,
   "id": "ae89e4a1",
   "metadata": {},
   "outputs": [],
   "source": [
    "explanation = explainer.explain_instance(x_test[22].astype('double'), adv_lime.predict_proba, \n",
    "                                         top_labels=3, hide_color=0, num_samples=1000)\n",
    "generate_prediction_image(explanation, explanation.top_labels[0], weight=0.01, hide_background = False)"
   ]
  },
  {
   "cell_type": "code",
   "execution_count": null,
   "id": "ff22d0e2",
   "metadata": {},
   "outputs": [],
   "source": [
    "explanation = explainer.explain_instance(x_test[22].astype('double'), biased_model.predict_proba, \n",
    "                                         top_labels=3, hide_color=0, num_samples=1000)\n",
    "generate_prediction_image(explanation, explanation.top_labels[0], weight=0.01, hide_background = False)"
   ]
  },
  {
   "cell_type": "markdown",
   "id": "c5f582c2",
   "metadata": {},
   "source": [
    "----"
   ]
  },
  {
   "cell_type": "code",
   "execution_count": null,
   "id": "a5f44766",
   "metadata": {},
   "outputs": [],
   "source": []
  },
  {
   "cell_type": "code",
   "execution_count": null,
   "id": "e4560ac4",
   "metadata": {
    "scrolled": true
   },
   "outputs": [],
   "source": [
    "explanation = explainer.explain_instance(x_test[5].astype('double'), unbiased_model.predict_proba, \n",
    "                                         top_labels=3, hide_color=0, num_samples=1000)\n",
    "generate_prediction_image(explanation, explanation.top_labels[0], weight=0.025, hide_background = False)"
   ]
  },
  {
   "cell_type": "code",
   "execution_count": null,
   "id": "e2c8076b",
   "metadata": {},
   "outputs": [],
   "source": []
  },
  {
   "cell_type": "markdown",
   "id": "4607b559",
   "metadata": {},
   "source": [
    "### Explaining with SHAP"
   ]
  },
  {
   "cell_type": "code",
   "execution_count": null,
   "id": "b5286ee5",
   "metadata": {
    "scrolled": true
   },
   "outputs": [],
   "source": [
    "import shap"
   ]
  },
  {
   "cell_type": "code",
   "execution_count": null,
   "id": "79ef3f15",
   "metadata": {
    "scrolled": false
   },
   "outputs": [],
   "source": [
    "masker = shap.maskers.Image(\"blur(128,128)\", x_train[0].shape)"
   ]
  },
  {
   "cell_type": "code",
   "execution_count": null,
   "id": "df332745",
   "metadata": {
    "scrolled": true
   },
   "outputs": [],
   "source": [
    "explainer = shap.Explainer(adv_lime.model, masker, output_names=['dog', 'wolf'])\n",
    "shap_values = explainer(x_train, max_evals=100, batch_size=50, outputs=shap.Explanation.argsort.flip[:4]) "
   ]
  },
  {
   "cell_type": "code",
   "execution_count": null,
   "id": "e00ae649",
   "metadata": {},
   "outputs": [],
   "source": [
    "generate_prediction_image(explanation, explanation.top_labels[0], weight=0.001, show_positive = True, hide_background = True)"
   ]
  },
  {
   "cell_type": "code",
   "execution_count": null,
   "id": "aaf7e314",
   "metadata": {
    "scrolled": false
   },
   "outputs": [],
   "source": [
    "shap.image_plot(shap_values)"
   ]
  },
  {
   "cell_type": "code",
   "execution_count": null,
   "id": "b2097eef",
   "metadata": {},
   "outputs": [],
   "source": []
  },
  {
   "cell_type": "code",
   "execution_count": null,
   "id": "28f3f4e5",
   "metadata": {},
   "outputs": [],
   "source": [
    "explanation = explainer.explain_instance(x_test[1].astype('double'), adv_lime.predict_proba, \n",
    "                                         top_labels=3, hide_color=0, num_samples=1000)"
   ]
  },
  {
   "cell_type": "code",
   "execution_count": null,
   "id": "b4fa3ddc",
   "metadata": {
    "scrolled": false
   },
   "outputs": [],
   "source": [
    "generate_prediction_image(explanation, explanation.top_labels[0], weight=0.001, show_positive = True, hide_background = False)"
   ]
  },
  {
   "cell_type": "code",
   "execution_count": null,
   "id": "e3511cb3",
   "metadata": {
    "scrolled": true
   },
   "outputs": [],
   "source": [
    "explanation = explainer.explain_instance(x_test[2].astype('double'), unbiased_model.predict)"
   ]
  },
  {
   "cell_type": "code",
   "execution_count": null,
   "id": "12c2cca0",
   "metadata": {},
   "outputs": [],
   "source": [
    "generate_prediction_image(explanation, explanation.top_labels[0], weight=0.1, show_positive = True, hide_background = False)"
   ]
  },
  {
   "cell_type": "code",
   "execution_count": null,
   "id": "3921ba8c",
   "metadata": {},
   "outputs": [],
   "source": [
    "explainer = shap.Explainer(biased_model, masker, algorithm=\"exact\", output_names=['dog', 'wolf'])\n",
    "shap_values = explainer(x_train, max_evals=100, batch_size=50, outputs=shap.Explanation.argsort.flip[:4]) "
   ]
  },
  {
   "cell_type": "code",
   "execution_count": null,
   "id": "57d0df61",
   "metadata": {},
   "outputs": [],
   "source": [
    "shap.image_plot(shap_values)"
   ]
  },
  {
   "cell_type": "code",
   "execution_count": null,
   "id": "0d8386ac",
   "metadata": {
    "scrolled": false
   },
   "outputs": [],
   "source": [
    "# import shap\n",
    "\n",
    "# masker = x_test[np.random.choice(x_test.shape[0], 20)]\n",
    "\n",
    "# select a set of background examples to take an expectation over\n",
    "\n",
    "# shap_explainer = shap.DeepExplainer(biased_model, masker)"
   ]
  },
  {
   "cell_type": "code",
   "execution_count": null,
   "id": "f2d865ac",
   "metadata": {},
   "outputs": [],
   "source": [
    "explanation_heatmap(explanation, explanation.top_labels[0])"
   ]
  },
  {
   "cell_type": "code",
   "execution_count": null,
   "id": "0e64e40a",
   "metadata": {},
   "outputs": [],
   "source": [
    "shap_values = shap_explainer.shap_values(x_test)"
   ]
  },
  {
   "cell_type": "code",
   "execution_count": null,
   "id": "02cc4965",
   "metadata": {},
   "outputs": [],
   "source": [
    "shap.image_plot(shap_values, x_test)"
   ]
  },
  {
   "cell_type": "code",
   "execution_count": null,
   "id": "bb559118",
   "metadata": {},
   "outputs": [],
   "source": [
    "shap_explainer = shap.DeepExplainer(unbiased_model, masker)"
   ]
  },
  {
   "cell_type": "code",
   "execution_count": null,
   "id": "157f15af",
   "metadata": {},
   "outputs": [],
   "source": [
    "shap_values = shap_explainer.shap_values(x_test)"
   ]
  },
  {
   "cell_type": "code",
   "execution_count": null,
   "id": "c544c70d",
   "metadata": {
    "scrolled": false
   },
   "outputs": [],
   "source": [
    "shap.image_plot(shap_values, x_test)"
   ]
  },
  {
   "cell_type": "code",
   "execution_count": null,
   "id": "bef8c20f",
   "metadata": {
    "scrolled": true
   },
   "outputs": [],
   "source": [
    "shap.summary_plot(shap_values, feature_names=['dog', 'wolf'], plot_type=\"bar\")"
   ]
  },
  {
   "cell_type": "code",
   "execution_count": null,
   "id": "29145789",
   "metadata": {},
   "outputs": [],
   "source": []
  },
  {
   "cell_type": "code",
   "execution_count": null,
   "id": "3bcc140a",
   "metadata": {},
   "outputs": [],
   "source": [
    "plt.imshow(x_test[0])"
   ]
  },
  {
   "cell_type": "code",
   "execution_count": null,
   "id": "e8aa1c4c",
   "metadata": {},
   "outputs": [],
   "source": [
    "plt.imshow(x_test[0][150:])"
   ]
  },
  {
   "cell_type": "code",
   "execution_count": null,
   "id": "c879b8a5",
   "metadata": {},
   "outputs": [],
   "source": []
  },
  {
   "cell_type": "code",
   "execution_count": null,
   "id": "e1ebca96",
   "metadata": {},
   "outputs": [],
   "source": []
  }
 ],
 "metadata": {
  "kernelspec": {
   "display_name": "Python 3 (ipykernel)",
   "language": "python",
   "name": "python3"
  },
  "language_info": {
   "codemirror_mode": {
    "name": "ipython",
    "version": 3
   },
   "file_extension": ".py",
   "mimetype": "text/x-python",
   "name": "python",
   "nbconvert_exporter": "python",
   "pygments_lexer": "ipython3",
   "version": "3.10.3"
  }
 },
 "nbformat": 4,
 "nbformat_minor": 5
}
