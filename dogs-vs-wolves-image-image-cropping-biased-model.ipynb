{
 "cells": [
  {
   "cell_type": "code",
   "execution_count": 9,
   "id": "1664a59e",
   "metadata": {},
   "outputs": [
    {
     "name": "stdout",
     "output_type": "stream",
     "text": [
      "Archive:  dataset.zip\n",
      "   creating: dataset/\n",
      "   creating: dataset/wolf/\n",
      "   creating: dataset/husky/\n",
      "  inflating: dataset/wolf/wolf5.jpg  \n",
      "  inflating: __MACOSX/dataset/wolf/._wolf5.jpg  \n",
      "  inflating: dataset/wolf/wolf44.jpg  \n",
      "  inflating: __MACOSX/dataset/wolf/._wolf44.jpg  \n",
      "  inflating: dataset/wolf/wolf50.jpg  \n",
      "  inflating: __MACOSX/dataset/wolf/._wolf50.jpg  \n",
      "  inflating: dataset/wolf/wolf51.jpg  \n",
      "  inflating: __MACOSX/dataset/wolf/._wolf51.jpg  \n",
      "  inflating: dataset/wolf/wolf45.jpg  \n",
      "  inflating: __MACOSX/dataset/wolf/._wolf45.jpg  \n",
      "  inflating: dataset/wolf/wolf4.jpg  \n",
      "  inflating: __MACOSX/dataset/wolf/._wolf4.jpg  \n",
      "  inflating: dataset/wolf/wolf6.jpg  \n",
      "  inflating: __MACOSX/dataset/wolf/._wolf6.jpg  \n",
      "  inflating: dataset/wolf/wolf47.jpg  \n",
      "  inflating: __MACOSX/dataset/wolf/._wolf47.jpg  \n",
      "  inflating: dataset/wolf/wolf46.jpg  \n",
      "  inflating: __MACOSX/dataset/wolf/._wolf46.jpg  \n",
      "  inflating: dataset/wolf/wolf52.jpg  \n",
      "  inflating: __MACOSX/dataset/wolf/._wolf52.jpg  \n",
      "  inflating: dataset/wolf/wolf7.jpg  \n",
      "  inflating: __MACOSX/dataset/wolf/._wolf7.jpg  \n",
      "  inflating: dataset/wolf/wolf3.jpg  \n",
      "  inflating: __MACOSX/dataset/wolf/._wolf3.jpg  \n",
      "  inflating: dataset/wolf/wolf42.jpg  \n",
      "  inflating: __MACOSX/dataset/wolf/._wolf42.jpg  \n",
      "  inflating: dataset/wolf/wolf43.jpg  \n",
      "  inflating: __MACOSX/dataset/wolf/._wolf43.jpg  \n",
      "  inflating: dataset/wolf/wolf2.jpg  \n",
      "  inflating: __MACOSX/dataset/wolf/._wolf2.jpg  \n",
      "  inflating: dataset/wolf/wolf41.jpg  \n",
      "  inflating: __MACOSX/dataset/wolf/._wolf41.jpg  \n",
      "  inflating: dataset/wolf/wolf40.jpg  \n",
      "  inflating: __MACOSX/dataset/wolf/._wolf40.jpg  \n",
      "  inflating: dataset/wolf/wolf1.jpg  \n",
      "  inflating: __MACOSX/dataset/wolf/._wolf1.jpg  \n",
      "  inflating: dataset/wolf/wolf33.jpg  \n",
      "  inflating: __MACOSX/dataset/wolf/._wolf33.jpg  \n",
      "  inflating: dataset/wolf/wolf32.jpg  \n",
      "  inflating: __MACOSX/dataset/wolf/._wolf32.jpg  \n",
      "  inflating: dataset/wolf/wolf26.jpg  \n",
      "  inflating: __MACOSX/dataset/wolf/._wolf26.jpg  \n",
      "  inflating: dataset/wolf/wolf24.jpg  \n",
      "  inflating: __MACOSX/dataset/wolf/._wolf24.jpg  \n",
      "  inflating: dataset/wolf/wolf18.jpg  \n",
      "  inflating: __MACOSX/dataset/wolf/._wolf18.jpg  \n",
      "  inflating: dataset/wolf/wolf19.jpg  \n",
      "  inflating: __MACOSX/dataset/wolf/._wolf19.jpg  \n",
      "  inflating: dataset/wolf/wolf25.jpg  \n",
      "  inflating: __MACOSX/dataset/wolf/._wolf25.jpg  \n",
      "  inflating: dataset/wolf/wolf31.jpg  \n",
      "  inflating: __MACOSX/dataset/wolf/._wolf31.jpg  \n",
      "  inflating: dataset/wolf/wolf35.jpg  \n",
      "  inflating: __MACOSX/dataset/wolf/._wolf35.jpg  \n",
      "  inflating: dataset/wolf/wolf21.jpg  \n",
      "  inflating: __MACOSX/dataset/wolf/._wolf21.jpg  \n",
      "  inflating: dataset/wolf/wolf20.jpg  \n",
      "  inflating: __MACOSX/dataset/wolf/._wolf20.jpg  \n",
      "  inflating: dataset/wolf/wolf34.jpg  \n",
      "  inflating: __MACOSX/dataset/wolf/._wolf34.jpg  \n",
      "  inflating: dataset/wolf/wolf22.jpg  \n",
      "  inflating: __MACOSX/dataset/wolf/._wolf22.jpg  \n",
      "  inflating: dataset/wolf/wolf36.jpg  \n",
      "  inflating: __MACOSX/dataset/wolf/._wolf36.jpg  \n",
      "  inflating: dataset/wolf/wolf37.jpg  \n",
      "  inflating: __MACOSX/dataset/wolf/._wolf37.jpg  \n",
      "  inflating: dataset/wolf/wolf23.jpg  \n",
      "  inflating: __MACOSX/dataset/wolf/._wolf23.jpg  \n",
      "  inflating: dataset/wolf/wolf12.jpg  \n",
      "  inflating: __MACOSX/dataset/wolf/._wolf12.jpg  \n",
      "  inflating: dataset/wolf/wolf13.jpg  \n",
      "  inflating: __MACOSX/dataset/wolf/._wolf13.jpg  \n",
      "  inflating: dataset/wolf/wolf11.jpg  \n",
      "  inflating: __MACOSX/dataset/wolf/._wolf11.jpg  \n",
      "  inflating: dataset/wolf/wolf38.jpg  \n",
      "  inflating: __MACOSX/dataset/wolf/._wolf38.jpg  \n",
      "  inflating: dataset/wolf/wolf10.jpg  \n",
      "  inflating: __MACOSX/dataset/wolf/._wolf10.jpg  \n",
      "  inflating: dataset/wolf/wolf28.jpg  \n",
      "  inflating: __MACOSX/dataset/wolf/._wolf28.jpg  \n",
      "  inflating: dataset/wolf/wolf14.jpg  \n",
      "  inflating: __MACOSX/dataset/wolf/._wolf14.jpg  \n",
      "  inflating: dataset/wolf/wolf15.jpg  \n",
      "  inflating: __MACOSX/dataset/wolf/._wolf15.jpg  \n",
      "  inflating: dataset/wolf/wolf29.jpg  \n",
      "  inflating: __MACOSX/dataset/wolf/._wolf29.jpg  \n",
      "  inflating: dataset/wolf/wolf17.jpg  \n",
      "  inflating: __MACOSX/dataset/wolf/._wolf17.jpg  \n",
      "  inflating: dataset/wolf/wolf16.jpg  \n",
      "  inflating: __MACOSX/dataset/wolf/._wolf16.jpg  \n",
      "  inflating: dataset/wolf/wolf9.jpg  \n",
      "  inflating: __MACOSX/dataset/wolf/._wolf9.jpg  \n",
      "  inflating: dataset/wolf/wolf48.jpg  \n",
      "  inflating: __MACOSX/dataset/wolf/._wolf48.jpg  \n",
      "  inflating: dataset/wolf/wolf49.jpg  \n",
      "  inflating: __MACOSX/dataset/wolf/._wolf49.jpg  \n",
      "  inflating: dataset/wolf/wolf8.jpg  \n",
      "  inflating: __MACOSX/dataset/wolf/._wolf8.jpg  \n",
      "  inflating: dataset/husky/husky47.jpg  \n",
      "  inflating: __MACOSX/dataset/husky/._husky47.jpg  \n",
      "  inflating: dataset/husky/husky6.jpg  \n",
      "  inflating: __MACOSX/dataset/husky/._husky6.jpg  \n",
      "  inflating: dataset/husky/husky7.jpg  \n",
      "  inflating: __MACOSX/dataset/husky/._husky7.jpg  \n",
      "  inflating: dataset/husky/husky46.jpg  \n",
      "  inflating: __MACOSX/dataset/husky/._husky46.jpg  \n",
      "  inflating: dataset/husky/husky44.jpg  \n",
      "  inflating: __MACOSX/dataset/husky/._husky44.jpg  \n",
      "  inflating: dataset/husky/husky5.jpg  \n",
      "  inflating: __MACOSX/dataset/husky/._husky5.jpg  \n",
      "  inflating: dataset/husky/husky4.jpg  \n",
      "  inflating: __MACOSX/dataset/husky/._husky4.jpg  \n",
      "  inflating: dataset/husky/husky45.jpg  \n",
      "  inflating: __MACOSX/dataset/husky/._husky45.jpg  \n",
      "  inflating: dataset/husky/husky41.jpg  \n",
      "  inflating: __MACOSX/dataset/husky/._husky41.jpg  \n",
      "  inflating: dataset/husky/husky40.jpg  \n",
      "  inflating: __MACOSX/dataset/husky/._husky40.jpg  \n",
      "  inflating: dataset/husky/husky42.jpg  \n",
      "  inflating: __MACOSX/dataset/husky/._husky42.jpg  \n",
      "  inflating: dataset/husky/husky3.jpg  \n",
      "  inflating: __MACOSX/dataset/husky/._husky3.jpg  \n",
      "  inflating: dataset/husky/husky2.jpg  \n",
      "  inflating: __MACOSX/dataset/husky/._husky2.jpg  \n",
      "  inflating: dataset/husky/husky43.jpg  \n",
      "  inflating: __MACOSX/dataset/husky/._husky43.jpg  \n",
      "  inflating: dataset/husky/husky18.jpg  \n",
      "  inflating: __MACOSX/dataset/husky/._husky18.jpg  \n",
      "  inflating: dataset/husky/husky24.jpg  \n",
      "  inflating: __MACOSX/dataset/husky/._husky24.jpg  \n",
      "  inflating: dataset/husky/husky30.jpg  \n",
      "  inflating: __MACOSX/dataset/husky/._husky30.jpg  \n",
      "  inflating: dataset/husky/husky31.jpg  \n",
      "  inflating: __MACOSX/dataset/husky/._husky31.jpg  \n",
      "  inflating: dataset/husky/husky25.jpg  \n",
      "  inflating: __MACOSX/dataset/husky/._husky25.jpg  \n",
      "  inflating: dataset/husky/husky19.jpg  \n",
      "  inflating: __MACOSX/dataset/husky/._husky19.jpg  \n",
      "  inflating: dataset/husky/husky33.jpg  \n",
      "  inflating: __MACOSX/dataset/husky/._husky33.jpg  \n",
      "  inflating: dataset/husky/husky27.jpg  \n",
      "  inflating: __MACOSX/dataset/husky/._husky27.jpg  \n",
      "  inflating: dataset/husky/husky26.jpg  \n",
      "  inflating: __MACOSX/dataset/husky/._husky26.jpg  \n",
      "  inflating: dataset/husky/husky32.jpg  \n",
      "  inflating: __MACOSX/dataset/husky/._husky32.jpg  \n",
      "  inflating: dataset/husky/husky36.jpg  \n",
      "  inflating: __MACOSX/dataset/husky/._husky36.jpg  \n",
      "  inflating: dataset/husky/husky22.jpg  \n",
      "  inflating: __MACOSX/dataset/husky/._husky22.jpg  \n",
      "  inflating: dataset/husky/husky23.jpg  \n",
      "  inflating: __MACOSX/dataset/husky/._husky23.jpg  \n",
      "  inflating: dataset/husky/husky37.jpg  \n",
      "  inflating: __MACOSX/dataset/husky/._husky37.jpg  \n",
      "  inflating: dataset/husky/husky21.jpg  \n",
      "  inflating: __MACOSX/dataset/husky/._husky21.jpg  \n",
      "  inflating: dataset/husky/husky35.jpg  \n",
      "  inflating: __MACOSX/dataset/husky/._husky35.jpg  \n",
      "  inflating: dataset/husky/husky34.jpg  \n",
      "  inflating: __MACOSX/dataset/husky/._husky34.jpg  \n",
      "  inflating: dataset/husky/husky20.jpg  \n",
      "  inflating: __MACOSX/dataset/husky/._husky20.jpg  \n",
      "  inflating: dataset/husky/husky39.jpg  \n",
      "  inflating: __MACOSX/dataset/husky/._husky39.jpg  \n",
      "  inflating: dataset/husky/husky11.jpg  \n",
      "  inflating: __MACOSX/dataset/husky/._husky11.jpg  \n",
      "  inflating: dataset/husky/husky10.jpg  \n",
      "  inflating: __MACOSX/dataset/husky/._husky10.jpg  \n",
      "  inflating: dataset/husky/husky38.jpg  \n",
      "  inflating: __MACOSX/dataset/husky/._husky38.jpg  \n",
      "  inflating: dataset/husky/husky12.jpg  \n",
      "  inflating: __MACOSX/dataset/husky/._husky12.jpg  \n",
      "  inflating: dataset/husky/husky13.jpg  \n",
      "  inflating: __MACOSX/dataset/husky/._husky13.jpg  \n",
      "  inflating: dataset/husky/husky17.jpg  \n",
      "  inflating: __MACOSX/dataset/husky/._husky17.jpg  \n",
      "  inflating: dataset/husky/husky16.jpg  \n",
      "  inflating: __MACOSX/dataset/husky/._husky16.jpg  \n",
      "  inflating: dataset/husky/husky14.jpg  \n",
      "  inflating: __MACOSX/dataset/husky/._husky14.jpg  \n",
      "  inflating: dataset/husky/husky28.jpg  \n",
      "  inflating: __MACOSX/dataset/husky/._husky28.jpg  \n",
      "  inflating: dataset/husky/husky29.jpg  \n",
      "  inflating: __MACOSX/dataset/husky/._husky29.jpg  \n",
      "  inflating: dataset/husky/husky15.jpg  \n",
      "  inflating: __MACOSX/dataset/husky/._husky15.jpg  \n",
      "  inflating: dataset/husky/husky48.jpg  \n",
      "  inflating: __MACOSX/dataset/husky/._husky48.jpg  \n",
      "  inflating: dataset/husky/husky9.jpg  \n",
      "  inflating: __MACOSX/dataset/husky/._husky9.jpg  \n",
      "  inflating: dataset/husky/husky8.jpg  \n",
      "  inflating: __MACOSX/dataset/husky/._husky8.jpg  \n"
     ]
    }
   ],
   "source": [
    "!unzip dataset.zip"
   ]
  },
  {
   "cell_type": "code",
   "execution_count": 10,
   "id": "b9392af7",
   "metadata": {
    "scrolled": true
   },
   "outputs": [],
   "source": [
    "import os\n",
    "import random\n",
    "import warnings\n",
    "import numpy as np # linear algebra\n",
    "import pandas as pd # data processing, CSV file I/O (e.g. pd.read_csv)\n",
    "import tensorflow as tf\n",
    "\n",
    "# Input data files are available in the read-only \"../input/\" directory\n",
    "# For example, running this (by clicking run or pressing Shift+Enter) will list all files under the input directory"
   ]
  },
  {
   "cell_type": "code",
   "execution_count": 11,
   "id": "e42b2f96",
   "metadata": {},
   "outputs": [],
   "source": [
    "import matplotlib.pyplot as plt\n",
    "%matplotlib inline\n",
    "\n",
    "from sklearn.model_selection import train_test_split\n",
    "from tensorflow.keras.utils import to_categorical\n",
    "from tensorflow.keras.preprocessing import image\n",
    "\n",
    "import warnings\n",
    "# filter warnings\n",
    "warnings.filterwarnings('ignore')"
   ]
  },
  {
   "cell_type": "code",
   "execution_count": 12,
   "id": "1e7be853",
   "metadata": {
    "scrolled": true
   },
   "outputs": [],
   "source": [
    "from utils import one_hot_encode"
   ]
  },
  {
   "cell_type": "code",
   "execution_count": 13,
   "id": "149ca4d5",
   "metadata": {
    "scrolled": true
   },
   "outputs": [
    {
     "name": "stdout",
     "output_type": "stream",
     "text": [
      "dogs : 47\n",
      "wolves : 49\n"
     ]
    }
   ],
   "source": [
    "dogs = sorted(os.listdir('dataset/husky'))\n",
    "wolves =  sorted(os.listdir('dataset/wolf/'))\n",
    "\n",
    "print(\"dogs :\", len(dogs))\n",
    "print(\"wolves :\", len(wolves))"
   ]
  },
  {
   "cell_type": "code",
   "execution_count": 14,
   "id": "72ec0731",
   "metadata": {},
   "outputs": [
    {
     "data": {
      "image/png": "[encoded data removed]",
      "text/plain": [
       "<Figure size 640x480 with 1 Axes>"
      ]
     },
     "metadata": {},
     "output_type": "display_data"
    }
   ],
   "source": [
    "count_dogs = len(dogs)\n",
    "count_wolves = len(wolves)\n",
    "\n",
    "list_count=[count_dogs,count_wolves]\n",
    "list_count_variable =[\"dogs\",\"wolves\"]\n",
    "\n",
    "fig = plt.figure()\n",
    "plt.bar(list_count_variable,list_count,color=\"orange\")\n",
    "plt.bar(list_count_variable,list_count,color=\"orange\")\n",
    "plt.xlabel(\"insect    \")\n",
    "plt.ylabel(\"values\")\n",
    "plt.show()"
   ]
  },
  {
   "cell_type": "code",
   "execution_count": 15,
   "id": "45461c1f",
   "metadata": {},
   "outputs": [],
   "source": [
    "dogs = []\n",
    "wolves = []\n",
    "img_size = 180\n",
    "\n",
    "DOGS_IMGS_PATH = 'dataset/husky'\n",
    "WOLVES_IMGS_PATH = 'dataset/wolf'\n",
    "\n",
    "DIRS = [(0, DOGS_IMGS_PATH), (1, WOLVES_IMGS_PATH)]"
   ]
  },
  {
   "cell_type": "code",
   "execution_count": 16,
   "id": "199d7236",
   "metadata": {
    "scrolled": true
   },
   "outputs": [],
   "source": [
    "train_images = []\n",
    "labels = []\n",
    "for num, _dir in DIRS:\n",
    "    _dir = _dir + '/'\n",
    "    count = 0\n",
    "    for file in os.listdir(_dir):\n",
    "        img = image.load_img(_dir + str(file), target_size=(img_size, img_size))\n",
    "        img = image.img_to_array(img)\n",
    "        img = img/255\n",
    "        train_images.append(img)\n",
    "        labels.append(num)"
   ]
  },
  {
   "cell_type": "code",
   "execution_count": 17,
   "id": "b714b2e3",
   "metadata": {},
   "outputs": [
    {
     "data": {
      "text/plain": [
       "76"
      ]
     },
     "execution_count": 17,
     "metadata": {},
     "output_type": "execute_result"
    }
   ],
   "source": [
    "x_train, x_test, y_train, y_test = train_test_split(np.array(train_images), labels, test_size=0.2, random_state=101)\n",
    "len(x_train)"
   ]
  },
  {
   "cell_type": "code",
   "execution_count": 18,
   "id": "1ff0eebf",
   "metadata": {},
   "outputs": [],
   "source": [
    "y_train, y_test = to_categorical(y_train), to_categorical(y_test)"
   ]
  },
  {
   "cell_type": "code",
   "execution_count": 19,
   "id": "2aca3041",
   "metadata": {},
   "outputs": [],
   "source": [
    "from sklearn.metrics import classification_report, confusion_matrix"
   ]
  },
  {
   "cell_type": "code",
   "execution_count": 20,
   "id": "a3caa139",
   "metadata": {},
   "outputs": [],
   "source": [
    "from tensorflow.keras.applications.resnet50 import ResNet50\n",
    "from tensorflow.keras.models import Sequential\n",
    "from tensorflow.keras.layers import Dense, Flatten\n",
    "from tensorflow.keras.optimizers import Adam\n",
    "from tensorflow.keras.models import load_model\n",
    "\n",
    "def build_resnet_model():\n",
    "    model = Sequential()\n",
    "\n",
    "    pretrained_model_for_demo= ResNet50(include_top=False,\n",
    "                       input_shape=(180,180,3),\n",
    "                       pooling='avg',classes=2,\n",
    "                       weights='imagenet')\n",
    "\n",
    "    for each_layer in pretrained_model_for_demo.layers:\n",
    "            each_layer.trainable=False\n",
    "\n",
    "    model.add(pretrained_model_for_demo)\n",
    "    model.add(Flatten())\n",
    "\n",
    "    model.add(Dense(512, activation='relu'))\n",
    "\n",
    "    model.add(Dense(2, activation='softmax'))\n",
    "    model.compile(optimizer=Adam(learning_rate=0.001),loss='categorical_crossentropy',metrics=['accuracy'])\n",
    "    return model"
   ]
  },
  {
   "cell_type": "code",
   "execution_count": 24,
   "id": "38441010",
   "metadata": {},
   "outputs": [],
   "source": [
    "class biased_model_f:\n",
    "    # Decision rule: classify negatively if race is black\n",
    "    def __init__(self):\n",
    "        self.model = None\n",
    "    \n",
    "    def load_model(self, model_path):\n",
    "        self.model = load_model(model_path)\n",
    "        return self.model\n",
    "\n",
    "    def save(self, path):\n",
    "        self.model.save(path)\n",
    "        return\n",
    "    \n",
    "    def predict(self,X):\n",
    "        return np.argmax(self.predict_proba(X),axis=1)\n",
    "\n",
    "    def predict_proba(self, X):\n",
    "        cropped_x = np.asarray([x[150:] for x in X])\n",
    "        results = np.array([min(np.mean(np.count_nonzero(img.mean(axis=2) > 0.9)/4000), 1) for img in X])\n",
    "        return np.array([1- results, results]).transpose()\n",
    "\n",
    "    def score(self, X,y):\n",
    "        return np.sum(self.predict(X)==y) / len(X)\n",
    "\n",
    "class unbiased_model_psi:\n",
    "    def __init__(self):\n",
    "        self.model = None\n",
    "\n",
    "    def load_model(self, model_name):\n",
    "        self.model = load_model(model_name)\n",
    "        return self.model\n",
    "\n",
    "    def save(self, path):\n",
    "        self.model.save(path)\n",
    "        return\n",
    "    \n",
    "    # Decision rule: classify according to randomly drawn column 'unrelated column'\n",
    "    def predict(self,X):\n",
    "        return self.model.predict(X, verbose = 0).argmax(axis=-1)\n",
    "\n",
    "    def predict_proba(self, X): \n",
    "        return self.model.predict(X, verbose = 0)\n",
    "\n",
    "    def score(self, X,y):\n",
    "        return np.sum(self.predict(X)==y) / len(X)\n",
    "\n",
    "    def fit(self, X, y, batch_size=32, epochs=10, validation_split=0.2, verbose = 0):\n",
    "        if not self.model:\n",
    "            self.get_model()\n",
    "        return self.model.fit(X, y, batch_size=batch_size, epochs=epochs, validation_split=0.2, verbose = verbose)\n",
    "    \n",
    "    def get_model(self):\n",
    "        if not self.model:\n",
    "            self.model = build_resnet_model()\n",
    "        return self.model"
   ]
  },
  {
   "cell_type": "code",
   "execution_count": 25,
   "id": "c7a2da11",
   "metadata": {
    "scrolled": false
   },
   "outputs": [
    {
     "name": "stderr",
     "output_type": "stream",
     "text": [
      "WARNING:absl:Found untraced functions such as _update_step_xla, _jit_compiled_convolution_op, _jit_compiled_convolution_op, _jit_compiled_convolution_op, _jit_compiled_convolution_op while saving (showing 5 of 54). These functions will not be directly callable after loading.\n"
     ]
    },
    {
     "name": "stdout",
     "output_type": "stream",
     "text": [
      "INFO:tensorflow:Assets written to: bkp/unbiased_model/assets\n"
     ]
    },
    {
     "name": "stderr",
     "output_type": "stream",
     "text": [
      "INFO:tensorflow:Assets written to: bkp/unbiased_model/assets\n"
     ]
    },
    {
     "data": {
      "image/png": "[encoded data removed]",
      "text/plain": [
       "<Figure size 640x480 with 1 Axes>"
      ]
     },
     "metadata": {},
     "output_type": "display_data"
    },
    {
     "data": {
      "image/png": "[encoded data removed]",
      "text/plain": [
       "<Figure size 640x480 with 1 Axes>"
      ]
     },
     "metadata": {},
     "output_type": "display_data"
    }
   ],
   "source": [
    "unbiased_model = unbiased_model_psi()\n",
    "biased_model = biased_model_f()\n",
    "\n",
    "try:\n",
    "    unbiased_model.model = load_model('bkp/unbiased_model/')\n",
    "except:\n",
    "    unbiased_model.model = unbiased_model.get_model()\n",
    "    history = unbiased_model.fit(X=x_train, y=y_train, epochs=40)\n",
    "    unbiased_model.model.save('bkp/unbiased_model/')\n",
    "    \n",
    "    plt.plot(history.history['accuracy'])\n",
    "    plt.plot(history.history['val_accuracy'])\n",
    "    plt.title('model accuracy')\n",
    "    plt.ylabel('accuracy')\n",
    "    plt.xlabel('epoch')\n",
    "    plt.legend(['train', 'test'], loc='upper left')\n",
    "    plt.show()\n",
    "    # summarize history for loss\n",
    "    plt.plot(history.history['loss'])\n",
    "    plt.plot(history.history['val_loss'])\n",
    "    plt.title('model loss')\n",
    "    plt.ylabel('loss')\n",
    "    plt.xlabel('epoch')\n",
    "    plt.legend(['train', 'test'], loc='upper left')\n",
    "    plt.show()"
   ]
  },
  {
   "cell_type": "code",
   "execution_count": null,
   "id": "aca403ea",
   "metadata": {
    "scrolled": false
   },
   "outputs": [
    {
     "name": "stdout",
     "output_type": "stream",
     "text": [
      " 82/114 [====================>.........] - ETA: 47s - loss: 0.6054 - accuracy: 0.7523"
     ]
    }
   ],
   "source": [
    "from adversarial_image_models_resnet import Adversarial_Lime_Model\n",
    "\n",
    "biased_preds = to_categorical(biased_model.predict(x_train))\n",
    "adv_lime = Adversarial_Lime_Model(biased_model, unbiased_model) \\\n",
    "            .train(x_train, biased_preds, estimator=unbiased_model_psi().get_model())"
   ]
  },
  {
   "cell_type": "code",
   "execution_count": null,
   "id": "d7796e0e",
   "metadata": {
    "scrolled": true
   },
   "outputs": [],
   "source": [
    "predictions = adv_lime.predict(x_test)"
   ]
  },
  {
   "cell_type": "code",
   "execution_count": null,
   "id": "cd495c86",
   "metadata": {},
   "outputs": [],
   "source": [
    "y_true = y_test.argmax(axis=-1)"
   ]
  },
  {
   "cell_type": "code",
   "execution_count": null,
   "id": "fa02ac6e",
   "metadata": {
    "scrolled": true
   },
   "outputs": [],
   "source": [
    "print(confusion_matrix(predictions, y_true))"
   ]
  },
  {
   "cell_type": "code",
   "execution_count": null,
   "id": "04de7cdc",
   "metadata": {
    "scrolled": true
   },
   "outputs": [],
   "source": [
    "print(classification_report(predictions, y_true))"
   ]
  },
  {
   "cell_type": "code",
   "execution_count": null,
   "id": "33b35999",
   "metadata": {},
   "outputs": [],
   "source": [
    "random_indices = [random.randint(0, len(x_test)-1) for i in range(6)]\n",
    "\n",
    "plt.figure(figsize=(10,10))\n",
    "for i, index in enumerate(random_indices):\n",
    "    pred = predictions[index]\n",
    "    pred = 'dog' if pred==0 else 'Wolf'\n",
    "    actual = 'dog' if y_true[index]==0 else 'Wolf'\n",
    "    plt.subplot(3,3,i+1)\n",
    "    plt.imshow(x_test[index], cmap='gray', interpolation='none')\n",
    "    plt.title(f\"Index: {index}, \\nPredicted: {pred}, \\nClass: {actual}\")\n",
    "    plt.tight_layout()"
   ]
  },
  {
   "cell_type": "code",
   "execution_count": null,
   "id": "1f6db5b4",
   "metadata": {},
   "outputs": [],
   "source": [
    "biased_model.predict_proba([x_test[19]])"
   ]
  },
  {
   "cell_type": "code",
   "execution_count": null,
   "id": "735be37c",
   "metadata": {},
   "outputs": [],
   "source": [
    "from skimage.segmentation import mark_boundaries\n",
    "\n",
    "def explanation_heatmap(exp, exp_class):\n",
    "    '''\n",
    "    Using heat-map to highlight the importance of each super-pixel for the model prediction\n",
    "    '''\n",
    "    dict_heatmap = dict(exp.local_exp[exp_class])\n",
    "    heatmap = np.vectorize(dict_heatmap.get)(exp.segments) \n",
    "    plt.imshow(heatmap, cmap = 'RdBu', vmin  = -heatmap.max(), vmax = heatmap.max())\n",
    "    plt.colorbar()\n",
    "    plt.show()\n",
    "\n",
    "def generate_prediction_image(exp, exp_class, weight = 0.1, show_positive = True, hide_background = True):\n",
    "    '''\n",
    "    Method to display and highlight super-pixels used by the black-box model to make predictions\n",
    "    '''\n",
    "    image, mask = exp.get_image_and_mask(exp_class, \n",
    "                                         positive_only=show_positive, \n",
    "                                         num_features=6, \n",
    "                                         hide_rest=hide_background,\n",
    "                                         min_weight=weight\n",
    "                                        )\n",
    "    plt.imshow(mark_boundaries(image, mask))\n",
    "    plt.axis('off')\n",
    "    plt.show()\n",
    "\n",
    "from lime import lime_image\n",
    "\n",
    "explainer = lime_image.LimeImageExplainer()"
   ]
  },
  {
   "cell_type": "code",
   "execution_count": null,
   "id": "dba8a9a0",
   "metadata": {},
   "outputs": [],
   "source": [
    "explanation = explainer.explain_instance(x_test[9].astype('double'), adv_lime.predict_proba,\n",
    "                                         top_labels=3, hide_color=0, num_samples=1000)"
   ]
  },
  {
   "cell_type": "code",
   "execution_count": null,
   "id": "708bcb75",
   "metadata": {},
   "outputs": [],
   "source": [
    "generate_prediction_image(explanation, explanation.top_labels[0], weight=0.1, hide_background = False)"
   ]
  },
  {
   "cell_type": "code",
   "execution_count": null,
   "id": "d366d8cc",
   "metadata": {},
   "outputs": [],
   "source": [
    "explanation_heatmap(explanation, explanation.top_labels[0])"
   ]
  },
  {
   "cell_type": "code",
   "execution_count": null,
   "id": "13d3c8b7",
   "metadata": {},
   "outputs": [],
   "source": [
    "explanation = explainer.explain_instance(x_test[9].astype('double'), biased_model.predict_proba,\n",
    "                                         top_labels=3, hide_color=0, num_samples=1000)\n",
    "generate_prediction_image(explanation, explanation.top_labels[0], weight=0.0001, hide_background = False)"
   ]
  },
  {
   "cell_type": "code",
   "execution_count": null,
   "id": "16d2f27a",
   "metadata": {},
   "outputs": [],
   "source": [
    "explanation_heatmap(explanation, explanation.top_labels[0])"
   ]
  },
  {
   "cell_type": "code",
   "execution_count": null,
   "id": "5eaacef5",
   "metadata": {
    "scrolled": true
   },
   "outputs": [],
   "source": [
    "explanation = explainer.explain_instance(x_test[2].astype('double'), adv_lime.predict_proba, \n",
    "                                         top_labels=3, hide_color=0, num_samples=1000)\n",
    "generate_prediction_image(explanation, explanation.top_labels[0], weight=0.0001, hide_background = False)\n",
    "explanation_heatmap(explanation, explanation.top_labels[0])"
   ]
  },
  {
   "cell_type": "code",
   "execution_count": null,
   "id": "38810738",
   "metadata": {},
   "outputs": [],
   "source": [
    "explanation = explainer.explain_instance(x_test[2].astype('double'), biased_model.predict_proba, \n",
    "                                         top_labels=3, hide_color=0, num_samples=1000)\n",
    "generate_prediction_image(explanation, explanation.top_labels[0], weight=0.01, hide_background = False)"
   ]
  },
  {
   "cell_type": "code",
   "execution_count": null,
   "id": "834688c2",
   "metadata": {
    "scrolled": false
   },
   "outputs": [],
   "source": [
    "explanation_heatmap(explanation, explanation.top_labels[0])"
   ]
  },
  {
   "cell_type": "code",
   "execution_count": null,
   "id": "e4560ac4",
   "metadata": {
    "scrolled": true
   },
   "outputs": [],
   "source": [
    "explanation = explainer.explain_instance(x_test[2].astype('double'), unbiased_model.predict_proba, \n",
    "                                         top_labels=3, hide_color=0, num_samples=1000)"
   ]
  },
  {
   "cell_type": "code",
   "execution_count": null,
   "id": "a3c1719e",
   "metadata": {},
   "outputs": [],
   "source": [
    "generate_prediction_image(explanation, explanation.top_labels[0], weight=0.025, hide_background = False)"
   ]
  },
  {
   "cell_type": "code",
   "execution_count": null,
   "id": "e2c8076b",
   "metadata": {},
   "outputs": [],
   "source": []
  },
  {
   "cell_type": "code",
   "execution_count": null,
   "id": "8f589fc7",
   "metadata": {},
   "outputs": [],
   "source": []
  },
  {
   "cell_type": "code",
   "execution_count": null,
   "id": "b2097eef",
   "metadata": {},
   "outputs": [],
   "source": []
  },
  {
   "cell_type": "markdown",
   "id": "4607b559",
   "metadata": {},
   "source": []
  },
  {
   "cell_type": "code",
   "execution_count": null,
   "id": "b5286ee5",
   "metadata": {
    "scrolled": true
   },
   "outputs": [],
   "source": [
    "import shap"
   ]
  },
  {
   "cell_type": "code",
   "execution_count": null,
   "id": "79ef3f15",
   "metadata": {},
   "outputs": [],
   "source": [
    "masker = shap.maskers.Image(\"blur(128,128)\", x_train[0].shape)"
   ]
  },
  {
   "cell_type": "code",
   "execution_count": null,
   "id": "df332745",
   "metadata": {
    "scrolled": true
   },
   "outputs": [],
   "source": [
    "explainer = shap.Explainer(unbiased_model.model, masker, output_names=['dog', 'wolf'])\n",
    "shap_values = explainer(x_train, max_evals=100, batch_size=50, outputs=shap.Explanation.argsort.flip[:4]) "
   ]
  },
  {
   "cell_type": "code",
   "execution_count": null,
   "id": "e00ae649",
   "metadata": {},
   "outputs": [],
   "source": [
    "generate_prediction_image(explanation, explanation.top_labels[0], weight=0.001, show_positive = True, hide_background = True)"
   ]
  },
  {
   "cell_type": "code",
   "execution_count": null,
   "id": "aaf7e314",
   "metadata": {
    "scrolled": false
   },
   "outputs": [],
   "source": [
    "shap.image_plot(shap_values)"
   ]
  },
  {
   "cell_type": "code",
   "execution_count": null,
   "id": "28f3f4e5",
   "metadata": {},
   "outputs": [],
   "source": [
    "explanation = explainer.explain_instance(x_test[1].astype('double'), adv_lime.predict_proba, \n",
    "                                         top_labels=3, hide_color=0, num_samples=1000)"
   ]
  },
  {
   "cell_type": "code",
   "execution_count": null,
   "id": "b4fa3ddc",
   "metadata": {
    "scrolled": false
   },
   "outputs": [],
   "source": [
    "generate_prediction_image(explanation, explanation.top_labels[0], weight=0.001, show_positive = True, hide_background = False)"
   ]
  },
  {
   "cell_type": "code",
   "execution_count": null,
   "id": "e3511cb3",
   "metadata": {
    "scrolled": true
   },
   "outputs": [],
   "source": [
    "explanation = explainer.explain_instance(x_test[2].astype('double'), unbiased_model.predict)"
   ]
  },
  {
   "cell_type": "code",
   "execution_count": null,
   "id": "12c2cca0",
   "metadata": {},
   "outputs": [],
   "source": [
    "generate_prediction_image(explanation, explanation.top_labels[0], weight=0.1, show_positive = True, hide_background = False)"
   ]
  },
  {
   "cell_type": "code",
   "execution_count": null,
   "id": "3921ba8c",
   "metadata": {},
   "outputs": [],
   "source": [
    "explainer = shap.Explainer(biased_model, masker, algorithm=\"exact\", output_names=['dog', 'wolf'])\n",
    "shap_values = explainer(x_train, max_evals=100, batch_size=50, outputs=shap.Explanation.argsort.flip[:4]) "
   ]
  },
  {
   "cell_type": "code",
   "execution_count": null,
   "id": "57d0df61",
   "metadata": {},
   "outputs": [],
   "source": [
    "shap.image_plot(shap_values)"
   ]
  },
  {
   "cell_type": "code",
   "execution_count": null,
   "id": "0d8386ac",
   "metadata": {
    "scrolled": false
   },
   "outputs": [],
   "source": [
    "# import shap\n",
    "\n",
    "# masker = x_test[np.random.choice(x_test.shape[0], 20)]\n",
    "\n",
    "# select a set of background examples to take an expectation over\n",
    "\n",
    "# shap_explainer = shap.DeepExplainer(biased_model, masker)"
   ]
  },
  {
   "cell_type": "code",
   "execution_count": null,
   "id": "f2d865ac",
   "metadata": {},
   "outputs": [],
   "source": [
    "explanation_heatmap(explanation, explanation.top_labels[0])"
   ]
  },
  {
   "cell_type": "code",
   "execution_count": null,
   "id": "0e64e40a",
   "metadata": {},
   "outputs": [],
   "source": [
    "shap_values = shap_explainer.shap_values(x_test)"
   ]
  },
  {
   "cell_type": "code",
   "execution_count": null,
   "id": "02cc4965",
   "metadata": {},
   "outputs": [],
   "source": [
    "shap.image_plot(shap_values, x_test)"
   ]
  },
  {
   "cell_type": "code",
   "execution_count": null,
   "id": "bb559118",
   "metadata": {},
   "outputs": [],
   "source": [
    "shap_explainer = shap.DeepExplainer(unbiased_model, masker)"
   ]
  },
  {
   "cell_type": "code",
   "execution_count": null,
   "id": "157f15af",
   "metadata": {},
   "outputs": [],
   "source": [
    "shap_values = shap_explainer.shap_values(x_test)"
   ]
  },
  {
   "cell_type": "code",
   "execution_count": null,
   "id": "c544c70d",
   "metadata": {
    "scrolled": false
   },
   "outputs": [],
   "source": [
    "shap.image_plot(shap_values, x_test)"
   ]
  },
  {
   "cell_type": "code",
   "execution_count": null,
   "id": "bef8c20f",
   "metadata": {
    "scrolled": true
   },
   "outputs": [],
   "source": [
    "shap.summary_plot(shap_values, feature_names=['dog', 'wolf'], plot_type=\"bar\")"
   ]
  },
  {
   "cell_type": "code",
   "execution_count": null,
   "id": "29145789",
   "metadata": {},
   "outputs": [],
   "source": []
  },
  {
   "cell_type": "code",
   "execution_count": null,
   "id": "e5a789ca",
   "metadata": {},
   "outputs": [],
   "source": [
    "x_train.shape"
   ]
  }
 ],
 "metadata": {
  "kernelspec": {
   "display_name": "Python 3 (ipykernel)",
   "language": "python",
   "name": "python3"
  },
  "language_info": {
   "codemirror_mode": {
    "name": "ipython",
    "version": 3
   },
   "file_extension": ".py",
   "mimetype": "text/x-python",
   "name": "python",
   "nbconvert_exporter": "python",
   "pygments_lexer": "ipython3",
   "version": "3.10.3"
  }
 },
 "nbformat": 4,
 "nbformat_minor": 5
}
